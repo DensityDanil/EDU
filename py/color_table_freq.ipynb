{
 "cells": [
  {
   "cell_type": "code",
   "execution_count": 16,
   "id": "55ee2f8a",
   "metadata": {},
   "outputs": [
    {
     "name": "stdout",
     "output_type": "stream",
     "text": [
      "HTML-таблицю з розфарбованими колонками збережено у файлі 'output.html'.\n"
     ]
    }
   ],
   "source": [
    "import random\n",
    "from collections import defaultdict\n",
    "\n",
    "# Генеруємо випадкові дані для таблиці (ваші дані можуть бути іншими)\n",
    "data = [\n",
    "     [1, 1, 1, 1, 1, 3, 3, 5, 6, 6]\n",
    "    ,[random.choice(['a','b','c']) for i in range(10)]\n",
    "    ,[random.randint(1, 10) for _ in range(10)]\n",
    "    ,[random.choice(['a','b','c']) for i in range(10)]\n",
    "    ,[random.randint(1, 10) for _ in range(10)]\n",
    "]\n",
    "\n",
    "# Створюємо словник для збереження відповідності значенням кольорів\n",
    "color_mapping = defaultdict(lambda: f\"rgb({random.randint(0, 255)}, {random.randint(0, 255)}, {random.randint(0, 255)})\")\n",
    "\n",
    "# Генеруємо HTML-таблицю з розфарбованими колонками\n",
    "html_table = \"<table border='1'>\\n\"\n",
    "for col_idx in range(len(data[0])):\n",
    "    html_table += \"<tr>\\n\"\n",
    "    column_values = [row[col_idx] for row in data]\n",
    "    unique_colors = {}\n",
    "    for value in column_values:\n",
    "        if value not in unique_colors:\n",
    "            unique_colors[value] = color_mapping[value]\n",
    "        color = unique_colors[value]\n",
    "        html_table += f\"<td style='background-color: {color};'>{value}</td>\\n\"\n",
    "    html_table += \"</tr>\\n\"\n",
    "html_table += \"</table>\"\n",
    "\n",
    "# Записуємо результат у файл\n",
    "with open(\"output.html\", \"w\") as f:\n",
    "    f.write(html_table)\n",
    "\n",
    "print(\"HTML-таблицю з розфарбованими колонками збережено у файлі 'output.html'.\")\n"
   ]
  }
 ],
 "metadata": {
  "kernelspec": {
   "display_name": "Python 3 (ipykernel)",
   "language": "python",
   "name": "python3"
  },
  "language_info": {
   "codemirror_mode": {
    "name": "ipython",
    "version": 3
   },
   "file_extension": ".py",
   "mimetype": "text/x-python",
   "name": "python",
   "nbconvert_exporter": "python",
   "pygments_lexer": "ipython3",
   "version": "3.6.8"
  },
  "toc": {
   "base_numbering": 1,
   "nav_menu": {},
   "number_sections": true,
   "sideBar": true,
   "skip_h1_title": false,
   "title_cell": "Table of Contents",
   "title_sidebar": "Contents",
   "toc_cell": false,
   "toc_position": {},
   "toc_section_display": true,
   "toc_window_display": false
  },
  "varInspector": {
   "cols": {
    "lenName": 16,
    "lenType": 16,
    "lenVar": 40
   },
   "kernels_config": {
    "python": {
     "delete_cmd_postfix": "",
     "delete_cmd_prefix": "del ",
     "library": "var_list.py",
     "varRefreshCmd": "print(var_dic_list())"
    },
    "r": {
     "delete_cmd_postfix": ") ",
     "delete_cmd_prefix": "rm(",
     "library": "var_list.r",
     "varRefreshCmd": "cat(var_dic_list()) "
    }
   },
   "types_to_exclude": [
    "module",
    "function",
    "builtin_function_or_method",
    "instance",
    "_Feature"
   ],
   "window_display": false
  }
 },
 "nbformat": 4,
 "nbformat_minor": 5
}
