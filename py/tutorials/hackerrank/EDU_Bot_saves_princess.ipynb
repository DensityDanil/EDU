{
  "nbformat": 4,
  "nbformat_minor": 0,
  "metadata": {
    "colab": {
      "provenance": []
    },
    "kernelspec": {
      "name": "python3",
      "display_name": "Python 3"
    },
    "language_info": {
      "name": "python"
    }
  },
  "cells": [
    {
      "cell_type": "markdown",
      "source": [
        "https://www.hackerrank.com/challenges/saveprincess?isFullScreen=true&hr_b=1"
      ],
      "metadata": {
        "id": "cH7csYzqA8WB"
      }
    },
    {
      "cell_type": "markdown",
      "source": [
        "Princess Peach is trapped in one of the four corners of a square grid. You are in the center of the grid and can move one step at a time in any of the four directions. Can you rescue the princess?\n",
        "\n",
        "Input format\n",
        "\n",
        "The first line contains an odd integer N (3 <= N < 100) denoting the size of the grid. This is followed by an NxN grid. Each cell is denoted by '-' (ascii value: 45). The bot position is denoted by 'm' and the princess position is denoted by 'p'.\n",
        "\n",
        "Grid is indexed using Matrix Convention\n",
        "\n",
        "Output format\n",
        "\n",
        "Print out the moves you will take to rescue the princess in one go. The moves must be separated by '\\n', a newline. The valid moves are LEFT or RIGHT or UP or DOWN.\n",
        "\n",
        "Sample input\n",
        "\n",
        "3\n",
        "---\n",
        "-m-\n",
        "p--\n",
        "Sample output\n",
        "\n",
        "DOWN\n",
        "LEFT\n",
        "Task\n",
        "\n",
        "Complete the function displayPathtoPrincess which takes in two parameters - the integer N and the character array grid. The grid will be formatted exactly as you see it in the input, so for the sample input the princess is at grid[2][0]. The function shall output moves (LEFT, RIGHT, UP or DOWN) on consecutive lines to rescue/reach the princess. The goal is to reach the princess in as few moves as possible.\n",
        "\n",
        "The above sample input is just to help you understand the format. The princess ('p') can be in any one of the four corners.\n",
        "\n",
        "Scoring\n",
        "Your score is calculated as follows : (NxN - number of moves made to rescue the princess)/10, where N is the size of the grid (3x3 in the sample testcase)."
      ],
      "metadata": {
        "id": "wERcDutSA5r0"
      }
    },
    {
      "cell_type": "code",
      "execution_count": null,
      "metadata": {
        "colab": {
          "base_uri": "https://localhost:8080/"
        },
        "id": "NwwZXwTfA4j9",
        "outputId": "1e368a79-8c4a-4d97-c90b-4cc723a9e104"
      },
      "outputs": [
        {
          "output_type": "execute_result",
          "data": {
            "text/plain": [
              "['---', '-mp', '--']"
            ]
          },
          "metadata": {},
          "execution_count": 53
        }
      ],
      "source": [
        "#!/usr/bin/python\n",
        "\n",
        "#def displayPathtoPrincess(n,grid):\n",
        "#print all the moves here\n",
        "\n",
        "m = 3 #int(input())\n",
        "\n",
        "grid_lines = '''---\n",
        "-mp\n",
        "--'''.split('\\n')\n",
        "\n",
        "grid_lines\n",
        "\n",
        "# grid = []\n",
        "# for i in range(0, m):\n",
        "#     grid.append(input().strip())\n",
        "\n",
        "#displayPathtoPrincess(m,grid)"
      ]
    },
    {
      "cell_type": "code",
      "source": [
        "[list(i.replace('-','0')) for i in grid_lines]"
      ],
      "metadata": {
        "colab": {
          "base_uri": "https://localhost:8080/"
        },
        "id": "wKi8i8e1HVhe",
        "outputId": "12fa0254-6394-4c4d-c98a-6eb381672970"
      },
      "execution_count": null,
      "outputs": [
        {
          "output_type": "execute_result",
          "data": {
            "text/plain": [
              "[['0', '0', '0'], ['0', 'm', 'p'], ['0', '0']]"
            ]
          },
          "metadata": {},
          "execution_count": 61
        }
      ]
    },
    {
      "cell_type": "code",
      "source": [
        "grid = [list(i.replace('-','0')) for i in grid_lines]#[i.split('-') for i in grid_lines]\n",
        "grid"
      ],
      "metadata": {
        "colab": {
          "base_uri": "https://localhost:8080/"
        },
        "id": "WyJbf2qdBvJR",
        "outputId": "c406fe72-b989-4426-9959-2e4b5ea4cb68"
      },
      "execution_count": null,
      "outputs": [
        {
          "output_type": "execute_result",
          "data": {
            "text/plain": [
              "[['0', '0', '0'], ['0', 'm', 'p'], ['0', '0']]"
            ]
          },
          "metadata": {},
          "execution_count": 62
        }
      ]
    },
    {
      "cell_type": "code",
      "source": [
        "position_rows_bot = [i for i in grid_lines if 'm' in i][0]\n",
        "position_rows_princesess = [i for i in grid_lines if 'p' in i][0]\n",
        "\n",
        "index_bot,index_princesess = grid_lines.index(position_rows_bot),grid_lines.index(position_rows_princesess)\n",
        "\n",
        "step_by_row = 'UP' if index_bot>index_princesess else '' if index_bot==index_princesess else 'DOWN'\n",
        "step_by_row\n"
      ],
      "metadata": {
        "colab": {
          "base_uri": "https://localhost:8080/",
          "height": 36
        },
        "id": "o5qZvWhbCTa4",
        "outputId": "afec56eb-0830-4739-f208-288b1b3360bc"
      },
      "execution_count": null,
      "outputs": [
        {
          "output_type": "execute_result",
          "data": {
            "text/plain": [
              "''"
            ],
            "application/vnd.google.colaboratory.intrinsic+json": {
              "type": "string"
            }
          },
          "metadata": {},
          "execution_count": 65
        }
      ]
    },
    {
      "cell_type": "code",
      "source": [
        "position_cols_bot = [i.index('m') for i in grid_lines if 'm' in i]\n",
        "position_cols_princesess = [i.index('p') for i in grid_lines if 'p' in i]\n",
        "\n",
        "step_by_cols = 'LEFT' if position_cols_bot>position_cols_princesess else '' if position_cols_bot==position_cols_princesess else 'RIGHT'\n",
        "step_by_cols"
      ],
      "metadata": {
        "colab": {
          "base_uri": "https://localhost:8080/",
          "height": 36
        },
        "id": "MHWlAxa4Ec53",
        "outputId": "3c6f68ec-cd89-4bcd-ccf0-b8ab20940ed9"
      },
      "execution_count": null,
      "outputs": [
        {
          "output_type": "execute_result",
          "data": {
            "text/plain": [
              "'RIGHT'"
            ],
            "application/vnd.google.colaboratory.intrinsic+json": {
              "type": "string"
            }
          },
          "metadata": {},
          "execution_count": 66
        }
      ]
    },
    {
      "cell_type": "markdown",
      "source": [
        "#FUNC&TESTS"
      ],
      "metadata": {
        "id": "7gR7548QY-dv"
      }
    },
    {
      "cell_type": "code",
      "source": [
        "grid_lines = '''p\n",
        "m'''.split('\\n')\n",
        "\n",
        "grid_lines = '''p\n",
        "-\n",
        "-\n",
        "-\n",
        "m'''.split('\\n')\n",
        "\n",
        "grid_lines = '''-p\n",
        "--\n",
        "--\n",
        "--\n",
        "m-'''.split('\\n')\n",
        "\n",
        "grid_lines = '''--p\n",
        "---\n",
        "---\n",
        "---\n",
        "-m-'''.split('\\n')\n",
        "\n",
        "grid_lines = '''---p\n",
        "----\n",
        "-m--'''.split('\\n')\n",
        "\n",
        "\n",
        "grid_lines = '''p---\n",
        "-m--'''.split('\\n')\n",
        "\n",
        "grid_lines = '''-mp'''.split('\\n')\n",
        "\n",
        "\n",
        "grid_lines = '''---m-\n",
        "-----\n",
        "-----\n",
        "p----\n",
        "-----'''.split('\\n')\n",
        "\n",
        "grid_lines = '''-p\n",
        "--\n",
        "--\n",
        "--\n",
        "--'''.split('\\n')\n",
        "\n",
        "\n",
        "def up_on_the_ladder(grid_array):\n",
        "  grid_array = [list(i.replace('-','0')) for i in grid_array]#[i.split('-') for i in grid_array]\n",
        "\n",
        "  #COLS\n",
        "  position_cols_bot = [i.index('m') for i in grid_array if 'm' in i]\n",
        "  position_cols_princesess = [i.index('p') for i in grid_array if 'p' in i]\n",
        "\n",
        "  step_by_cols = 'LEFT' if position_cols_bot>position_cols_princesess else '' if position_cols_bot==position_cols_princesess else 'RIGHT'\n",
        "  step_by_cols\n",
        "\n",
        "  cols_distance = position_cols_bot[0] - position_cols_princesess[0]\n",
        "\n",
        "  #ROWS\n",
        "  position_rows_bot = [i for i in grid_array if 'm' in i][0]\n",
        "  position_rows_princesess = [i for i in grid_array if 'p' in i][0]\n",
        "\n",
        "  index_bot,index_princesess = grid_array.index(position_rows_bot),grid_array.index(position_rows_princesess)\n",
        "  rows_distance = index_bot-index_princesess\n",
        "\n",
        "  step_by_row = 'UP' if index_bot>index_princesess else '' if index_bot == index_princesess else 'DOWN'\n",
        "  step_by_row\n",
        "\n",
        "\n",
        "  #print(step_by_cols,cols_distance)\n",
        "  #print(step_by_row,rows_distance)\n",
        "\n",
        "  cols_distance,rows_distance = abs(cols_distance),abs(rows_distance)\n",
        "\n",
        "  if rows_distance!=0:\n",
        "    for i in range(rows_distance):\n",
        "      print(step_by_row)\n",
        "  elif rows_distance==1:\n",
        "    print(step_by_row)\n",
        "\n",
        "  if cols_distance>1:\n",
        "    for i in range(cols_distance):\n",
        "      print(step_by_cols)\n",
        "\n",
        "  elif cols_distance==1:\n",
        "    print(step_by_cols)\n",
        "\n",
        "\n",
        "# m = int(input())\n",
        "# if m%2==1 and m<100:\n",
        "#     grid = []\n",
        "#     for i in range(0, m):\n",
        "#         grid.append(input().strip())\n",
        "#     up_on_the_ladder(grid)\n",
        "\n",
        "#up_on_the_ladder(grid_lines)\n",
        "\n",
        "up_on_the_ladder(grid_lines)\n"
      ],
      "metadata": {
        "colab": {
          "base_uri": "https://localhost:8080/"
        },
        "id": "q5Xc4pz6Inm1",
        "outputId": "ccadcc36-f77a-4bad-fcc7-e111a1fed369"
      },
      "execution_count": null,
      "outputs": [
        {
          "output_type": "stream",
          "name": "stdout",
          "text": [
            "DOWN\n",
            "DOWN\n",
            "DOWN\n",
            "LEFT\n",
            "LEFT\n",
            "LEFT\n"
          ]
        }
      ]
    },
    {
      "cell_type": "code",
      "source": [
        "[99]<[98]"
      ],
      "metadata": {
        "colab": {
          "base_uri": "https://localhost:8080/"
        },
        "id": "BSEGXeX2iu7m",
        "outputId": "089a0f72-a399-4e49-b0a3-5d6fd7bab727"
      },
      "execution_count": null,
      "outputs": [
        {
          "output_type": "execute_result",
          "data": {
            "text/plain": [
              "False"
            ]
          },
          "metadata": {},
          "execution_count": 28
        }
      ]
    },
    {
      "cell_type": "markdown",
      "source": [
        "#PT.2\n",
        "https://docs.google.com/spreadsheets/d/1poNMyqBPuwjLVvbtELtnXsOvW4fsQcLIUBVeZujWYeI/edit#gid=0"
      ],
      "metadata": {
        "id": "aQbUz6MLr14K"
      }
    },
    {
      "cell_type": "markdown",
      "source": [
        "##set bot position"
      ],
      "metadata": {
        "id": "UUgnO2K_eAdu"
      }
    },
    {
      "cell_type": "code",
      "source": [
        "grid_lines = '''-p\n",
        "--\n",
        "--\n",
        "--\n",
        "--'''.split('\\n')\n",
        "col,row=0,2\n",
        "\n",
        "grid_lines = '''-----\n",
        "-----\n",
        "p----\n",
        "-----\n",
        "-----'''.split('\\n')\n",
        "col,row=2,3-1\n",
        "\n",
        "grid_lines = [list(each_token.replace('-','0')) for each_token in grid_lines]\n",
        "\n",
        "\n",
        "for row_current in range( len(grid_lines) ):\n",
        "  if row_current==row:\n",
        "    grid_lines[row_current][col]='m'\n",
        "\n",
        "grid_lines\n",
        "\n",
        "\n",
        "#[['0', 'p'], ['0', '0'], ['0', '0'], ['m'], ['0', '0']]"
      ],
      "metadata": {
        "id": "ohfm1FVkJvhz",
        "colab": {
          "base_uri": "https://localhost:8080/"
        },
        "outputId": "a38bf385-1b49-4ebc-ee8f-7eff2b969ce6"
      },
      "execution_count": null,
      "outputs": [
        {
          "output_type": "execute_result",
          "data": {
            "text/plain": [
              "[['0', '0', '0', '0', '0'],\n",
              " ['0', '0', '0', '0', '0'],\n",
              " ['p', '0', 'm', '0', '0'],\n",
              " ['0', '0', '0', '0', '0'],\n",
              " ['0', '0', '0', '0', '0']]"
            ]
          },
          "metadata": {},
          "execution_count": 54
        }
      ]
    },
    {
      "cell_type": "markdown",
      "source": [
        "##define princess position\n"
      ],
      "metadata": {
        "id": "it_vD8enehyQ"
      }
    },
    {
      "cell_type": "code",
      "source": [
        "grid_array=grid_lines\n",
        "position_rows_princesess = [i for i in grid_array if 'p' in i][0]\n",
        "position_cols_princesess = [i.index('p') for i in grid_array if 'p' in i][0]\n",
        "\n",
        "\n",
        "index_bot = row #after time i need to rcall how it work in previous func version\n",
        "index_princesess = grid_array.index(position_rows_princesess)"
      ],
      "metadata": {
        "id": "yjAf8mDMBCgQ"
      },
      "execution_count": null,
      "outputs": []
    },
    {
      "cell_type": "markdown",
      "source": [
        "##steps from bot to princess"
      ],
      "metadata": {
        "id": "6LqDYzHnfLLZ"
      }
    },
    {
      "cell_type": "code",
      "source": [
        "step_by_cols = 'LEFT' if col>position_cols_princesess else '' if col==position_cols_princesess else 'RIGHT'\n",
        "step_by_row = 'UP' if row>index_princesess else '' if row == index_princesess else 'DOWN'\n",
        "\n",
        "\n",
        "rows_distance = row-index_princesess\n",
        "cols_distance = col-position_cols_princesess"
      ],
      "metadata": {
        "id": "fDVGi8wVfLDm"
      },
      "execution_count": null,
      "outputs": []
    },
    {
      "cell_type": "markdown",
      "source": [
        "##"
      ],
      "metadata": {
        "id": "yncao1CRfbmv"
      }
    },
    {
      "cell_type": "code",
      "source": [
        "cols_distance,rows_distance = abs(cols_distance),abs(rows_distance)\n",
        "\n",
        "print(grid_lines)\n",
        "\n",
        "if rows_distance!=0:\n",
        "  for i in range(1,rows_distance):\n",
        "    print(step_by_row)\n",
        "elif rows_distance==1:\n",
        "  print(step_by_row)\n",
        "\n",
        "if cols_distance>1:\n",
        "  for i in range(1,cols_distance):\n",
        "    print(step_by_cols)\n",
        "\n",
        "elif cols_distance==1:\n",
        "  print(step_by_cols)\n",
        "\n"
      ],
      "metadata": {
        "colab": {
          "base_uri": "https://localhost:8080/"
        },
        "id": "3qYLWlZIfchP",
        "outputId": "38a31863-08a4-4824-901d-3f4740050191"
      },
      "execution_count": null,
      "outputs": [
        {
          "output_type": "stream",
          "name": "stdout",
          "text": [
            "[['0', '0', '0', '0', '0'], ['0', '0', '0', '0', '0'], ['p', '0', 'm', '0', '0'], ['0', '0', '0', '0', '0'], ['0', '0', '0', '0', '0']]\n",
            "LEFT\n"
          ]
        }
      ]
    },
    {
      "cell_type": "markdown",
      "source": [
        "##funs"
      ],
      "metadata": {
        "id": "9OwIfNY1i-aZ"
      }
    },
    {
      "cell_type": "code",
      "source": [
        "grid_lines = '''-p\n",
        "--\n",
        "--\n",
        "--\n",
        "--'''.split('\\n')\n",
        "\n",
        "\n",
        "grid_lines = '''-----\n",
        "-----\n",
        "p----\n",
        "-----\n",
        "-----'''.split('\\n')\n",
        "col,row=2,3\n",
        "\n",
        "\n",
        "grid_lines = '''-----\n",
        "-----\n",
        "p----\n",
        "-----\n",
        "-----'''.split('\\n')\n",
        "col,row=2,3\n",
        "\n",
        "grid_lines = '''-----\n",
        "-p---\n",
        "-----\n",
        "-----\n",
        "-----'''.split('\\n')\n",
        "row,col=4,0 #REVERESE\n",
        "\n",
        "\n",
        "grid_lines = '''--m--\n",
        "-----\n",
        "-----\n",
        "---p-\n",
        "-----'''.split('\\n') #EXCEPTION\n",
        "row,col=0,2 #REVERESE\n",
        "\n",
        "def up_on_the_ladder_reviewed(grid_array,row=None,col=None):\n",
        "  #row = row-1\n",
        "  #col = col-1\n",
        "  grid_lines = [list(i.replace('-','0')) for i in grid_array]\n",
        "\n",
        "  for row_current in range( len(grid_lines) ):\n",
        "    if row_current==row:\n",
        "      grid_lines[row_current][col]='m'\n",
        "\n",
        "  grid_array=grid_lines\n",
        "  position_rows_princesess = [i for i in grid_array if 'p' in i][0]\n",
        "  position_cols_princesess = [i.index('p') for i in grid_array if 'p' in i][0]\n",
        "\n",
        "\n",
        "  index_bot = row #after time i need to rcall how it work in previous func version\n",
        "  index_princesess = grid_array.index(position_rows_princesess)\n",
        "\n",
        "  step_by_cols = 'LEFT' if col>position_cols_princesess else '' if col==position_cols_princesess else 'RIGHT'\n",
        "  step_by_row = 'UP' if row>index_princesess else '' if row == index_princesess else 'DOWN'\n",
        "\n",
        "\n",
        "  rows_distance = row-index_princesess\n",
        "  cols_distance = col-position_cols_princesess\n",
        "\n",
        "  cols_distance,rows_distance = abs(cols_distance),abs(rows_distance)\n",
        "\n",
        "  #print(grid_array)\n",
        "  if rows_distance!=0 and step_by_row!=None:\n",
        "    for i in range(0,rows_distance): #LOGIC UPD range(1,x)\n",
        "      print(step_by_row)\n",
        "  elif rows_distance==1 and step_by_row!=None:\n",
        "    print(step_by_row)\n",
        "\n",
        "  if cols_distance>1 and step_by_row!=None:\n",
        "    for i in range(0,cols_distance):  #LOGIC UPD range(1,x)\n",
        "      print(step_by_cols)\n",
        "\n",
        "  elif cols_distance==1 and step_by_row!=None:\n",
        "    print(step_by_cols)\n",
        "\n",
        "# col,row=0,2\n",
        "\n",
        "# col,row=3,2\n",
        "\n",
        "up_on_the_ladder_reviewed(grid_lines,row=row,col=col)"
      ],
      "metadata": {
        "colab": {
          "base_uri": "https://localhost:8080/"
        },
        "id": "wCa1sCJ-i-UV",
        "outputId": "72f71bc2-8d0a-4156-9278-3c1f5b5a60ee"
      },
      "execution_count": null,
      "outputs": [
        {
          "output_type": "stream",
          "name": "stdout",
          "text": [
            "DOWN\n",
            "DOWN\n",
            "DOWN\n",
            "RIGHT\n"
          ]
        }
      ]
    },
    {
      "cell_type": "markdown",
      "source": [
        "##func broken"
      ],
      "metadata": {
        "id": "kLQIu_bKeFou"
      }
    },
    {
      "cell_type": "code",
      "source": [
        "grid_lines = '''-----\n",
        "-----\n",
        "-----\n",
        "p----\n",
        "-----'''.split('\\n')\n",
        "\n",
        "\n",
        "def up_on_the_ladder(grid_array,row_bot=None,col_bot=None):\n",
        "  #print(grid_array)\n",
        "  grid_array = [list(i.replace('-','0')) for i in grid_array]#[i.split('-') for i in grid_array]\n",
        "\n",
        "  #COLS\n",
        "\n",
        "  if row_bot!=None and col_bot!=None:\n",
        "    col,row=row_bot,col_bot\n",
        "    position_cols_bot = [col]\n",
        "    for row_current in range( len(grid_array) ):\n",
        "      if row_current==row:\n",
        "        grid_array[row_current][col]='m'\n",
        "\n",
        "  else:\n",
        "    position_cols_bot = [i.index('m') for i in grid_array if 'm' in i]\n",
        "\n",
        "\n",
        "\n",
        "  position_cols_princesess = [i.index('p') for i in grid_array if 'p' in i]\n",
        "\n",
        "\n",
        "  step_by_cols = 'LEFT' if position_cols_bot>position_cols_princesess else '' if position_cols_bot==position_cols_princesess else 'RIGHT'\n",
        "  step_by_cols\n",
        "\n",
        "  cols_distance = position_cols_bot[0]-position_cols_princesess[0]\n",
        "\n",
        "  #ROWS\n",
        "  position_rows_bot = [i for i in grid_array if 'm' in i][0]\n",
        "  position_rows_princesess = [i for i in grid_array if 'p' in i][0]\n",
        "\n",
        "  index_bot,index_princesess = grid_array.index(position_rows_bot),grid_array.index(position_rows_princesess)\n",
        "  rows_distance = index_bot-index_princesess\n",
        "\n",
        "  step_by_row = 'UP' if index_bot>index_princesess else '' if index_bot == index_princesess else 'DOWN'\n",
        "  step_by_row\n",
        "\n",
        "  print(index_bot,index_princesess)\n",
        "  print(step_by_cols,cols_distance)\n",
        "  print(step_by_row,rows_distance)\n",
        "\n",
        "  cols_distance,rows_distance = abs(cols_distance),abs(rows_distance)\n",
        "\n",
        "  if rows_distance!=0:\n",
        "    for i in range(rows_distance):\n",
        "      print(step_by_row)\n",
        "  elif rows_distance==1:\n",
        "    print(step_by_row)\n",
        "\n",
        "  if cols_distance>1:\n",
        "    for i in range(cols_distance):\n",
        "      print(step_by_cols)\n",
        "\n",
        "  elif cols_distance==1:\n",
        "    print(step_by_cols)\n",
        "\n",
        "#up_on_the_ladder(grid_lines)\n",
        "\n",
        "up_on_the_ladder(grid_lines,row_bot=4,col_bot=3)"
      ],
      "metadata": {
        "id": "wp--bHkLeGbo"
      },
      "execution_count": null,
      "outputs": []
    }
  ]
}