{
 "cells": [
  {
   "cell_type": "code",
   "execution_count": 1,
   "metadata": {},
   "outputs": [
    {
     "data": {
      "text/plain": [
       "'select * from monkeys'"
      ]
     },
     "execution_count": 1,
     "metadata": {},
     "output_type": "execute_result"
    }
   ],
   "source": [
    "query_simple = {'frm':lambda table: f'select * from {table}'\n",
    "              }\n",
    "\n",
    "query_additional = { \"w\":lambda statement,table: f'{query_simple.get(\"frm\")(table) } where {statement}'\n",
    "                    \n",
    "                    ,'frm-lj':lambda primary_table,table_to_join,cols: print(f'''{query_simple.get(\"frm\")(primary_table) } \n",
    "                    left join {table_to_join} \n",
    "                    on {primary_table}.{cols[0]} = {table_to_join}.{cols[1]}''')\n",
    "\n",
    "                    ,'frm-lj-many-cols':lambda primary_table,table_to_join,cols: print(f'''{query_simple.get(\"frm\")(primary_table) } \n",
    "                    left join {table_to_join} \n",
    "                    on (\n",
    "                        {' AND '.join([ f\"{primary_table}.{cols[idx+1]} = {table_to_join}.{cols[idx]}\" \n",
    "                                         for idx in range(0,len(cols),2 ) ]) }\n",
    "                        )\n",
    "                    ''')\n",
    "                    }\n",
    "\n",
    "query_simple.get('frm')('monkeys')"
   ]
  },
  {
   "cell_type": "code",
   "execution_count": 2,
   "metadata": {},
   "outputs": [
    {
     "data": {
      "text/plain": [
       "'select * from state = \"active where monkeys'"
      ]
     },
     "execution_count": 2,
     "metadata": {},
     "output_type": "execute_result"
    }
   ],
   "source": [
    "query_additional.get('w')('monkeys','state = \"active')\n"
   ]
  },
  {
   "cell_type": "code",
   "execution_count": 3,
   "metadata": {},
   "outputs": [
    {
     "name": "stdout",
     "output_type": "stream",
     "text": [
      "select * from transaction_content \n",
      "                    left join transaction \n",
      "                    on transaction_content.transaction_id = transaction.transaction_id\n"
     ]
    }
   ],
   "source": [
    "\n",
    "query_additional.get('frm-lj')( 'transaction_content','transaction'\n",
    "                               ,['transaction_id','transaction_id'])\n"
   ]
  },
  {
   "cell_type": "code",
   "execution_count": 4,
   "metadata": {},
   "outputs": [
    {
     "name": "stdout",
     "output_type": "stream",
     "text": [
      "select * from transaction_content \n",
      "                    left join transaction \n",
      "                    on (\n",
      "                        transaction_content.transaction_id = transaction.transaction_id AND transaction_content.session = transaction.session\n",
      "                        )\n",
      "                    \n"
     ]
    }
   ],
   "source": [
    "query_additional.get('frm-lj-many-cols')( 'transaction_content','transaction'\n",
    "                               ,['transaction_id','transaction_id'\n",
    "                                 ,'session','session'])"
   ]
  },
  {
   "cell_type": "code",
   "execution_count": null,
   "metadata": {},
   "outputs": [],
   "source": []
  }
 ],
 "metadata": {
  "kernelspec": {
   "display_name": "Python 3",
   "language": "python",
   "name": "python3"
  },
  "language_info": {
   "codemirror_mode": {
    "name": "ipython",
    "version": 3
   },
   "file_extension": ".py",
   "mimetype": "text/x-python",
   "name": "python",
   "nbconvert_exporter": "python",
   "pygments_lexer": "ipython3",
   "version": "3.6.8"
  },
  "orig_nbformat": 4
 },
 "nbformat": 4,
 "nbformat_minor": 2
}
