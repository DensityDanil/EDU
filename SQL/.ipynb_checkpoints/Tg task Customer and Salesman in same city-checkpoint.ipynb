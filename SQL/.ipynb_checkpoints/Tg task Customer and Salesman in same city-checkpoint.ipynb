{
 "cells": [
  {
   "cell_type": "code",
   "execution_count": 22,
   "id": "516bc117",
   "metadata": {},
   "outputs": [],
   "source": [
    "import sqlparse"
   ]
  },
  {
   "cell_type": "code",
   "execution_count": 15,
   "id": "6cc4845a",
   "metadata": {},
   "outputs": [],
   "source": [
    "def mysqlreplacer(sql):\n",
    "    one_word_clause_first_character=['SELECT','FROM','WHERE','HAVING','TOP','DISTINCT','UNION','LIMIT','OFFSET','EXISTS']\n",
    "    two_word_clause_first_character=['LEFT JOIN','INNER JOIN','RIGHT JOIN','NATURAL JOIN','CROSS JOIN','ORDER BY','GROUP BY','WITH CUBE','WITH ROLLUP','UNION ALL']\n",
    "    #,'DATE FORMAT','GROUP CONCAT','ROW NUMBER','SUBSTRING INDEX'\n",
    "\n",
    "    #create one common list based on two lists\n",
    "    \n",
    "    \n",
    "    sql_clause = one_word_clause_first_character+two_word_clause_first_character\n",
    "    \n",
    "    #тут оновив , щоб був lowercase\n",
    "    sql_clause = list(map(str.lower,sql_clause))\n",
    "    sql_lst = [i.split(' ') for i in sql_clause]\n",
    "    \n",
    "    \n",
    "\n",
    "    #FIST CHARACTER FOR 1 LEN CLAUSES\n",
    "    #TWO FIRST CHARACTERS FOR 2 LEN CLAUSES\n",
    "    sql_dict = dict([\n",
    "                (clause[0][0]+clause[1][0], clause[0]+' '+clause[1])\n",
    "                if len(clause)==2\n",
    "                else (clause[0][0], clause[0])\n",
    "                for clause in sql_lst\n",
    "               ])\n",
    "\n",
    "    sql_dict\n",
    "    my_dict2 = {y: x for x, y in sql_dict.items()}\n",
    "    clear = sql.split(' ')\n",
    "\n",
    "\n",
    "    for i in range( len( clear ) ):\n",
    "        output_token = clear[i]\n",
    "        input_token =  sql_dict.get(output_token)\n",
    "        if input_token!=None:\n",
    "            clear[i] = input_token\n",
    "        else:\n",
    "            continue\n",
    "        #print(output_token,input_token)\n",
    "    return ' '.join(clear)"
   ]
  },
  {
   "cell_type": "code",
   "execution_count": 79,
   "id": "c4717a2b",
   "metadata": {},
   "outputs": [
    {
     "name": "stdout",
     "output_type": "stream",
     "text": [
      "ON\n",
      "s.salesman_id = c.salesman_id\n",
      "AND\n",
      "s.city = c.city\n"
     ]
    }
   ],
   "source": [
    "def gen_sql_2tables_join( str_lst\n",
    "                 ,table_alias_str_lst\n",
    "                 ,how_to_join='AND'):\n",
    "    \n",
    "    cols = str_lst.split(',')\n",
    "    table_aliases = table_alias_str_lst.split(',')\n",
    "    \n",
    "    T1,T2 = table_aliases\n",
    "    res = 'ON\\n'+f'\\n{how_to_join}\\n'.join([f\"{T1}.{col} = {T2}.{col}\" \n",
    "                                  for col in cols])\n",
    "    print(res)                             \n",
    "    return res \n",
    "                                  \n",
    "                                  \n",
    "cols = '''salesman_id,city'''\n",
    "join_gen = gen_sql_2tables_join(cols,'s,c')"
   ]
  },
  {
   "cell_type": "code",
   "execution_count": 82,
   "id": "812086c2",
   "metadata": {
    "scrolled": true
   },
   "outputs": [
    {
     "name": "stdout",
     "output_type": "stream",
     "text": [
      "a.c1 = b.c1 -- 1\n",
      "a.c2 = b.c2 -- 2\n",
      "a.c3 = b.c3 -- 3\n",
      "a.c4 = b.c4 -- 4\n",
      "a.c1 = c.c1 -- 5\n",
      "a.c2 = c.c2 -- 6\n",
      "a.c3 = c.c3 -- 7\n",
      "a.c4 = c.c4 -- 8\n",
      "a.c1 = d.c1 -- 9\n",
      "a.c2 = d.c2 -- 10\n",
      "a.c3 = d.c3 -- 11\n",
      "a.c4 = d.c4 -- 12\n",
      "a.c1 = e.c1 -- 13\n",
      "a.c2 = e.c2 -- 14\n",
      "a.c3 = e.c3 -- 15\n",
      "a.c4 = e.c4 -- 16\n",
      "b.c1 = c.c1 -- 17\n",
      "b.c2 = c.c2 -- 18\n",
      "b.c3 = c.c3 -- 19\n",
      "b.c4 = c.c4 -- 20\n",
      "b.c1 = d.c1 -- 21\n",
      "b.c2 = d.c2 -- 22\n",
      "b.c3 = d.c3 -- 23\n",
      "b.c4 = d.c4 -- 24\n",
      "b.c1 = e.c1 -- 25\n",
      "b.c2 = e.c2 -- 26\n",
      "b.c3 = e.c3 -- 27\n",
      "b.c4 = e.c4 -- 28\n",
      "c.c1 = d.c1 -- 29\n",
      "c.c2 = d.c2 -- 30\n",
      "c.c3 = d.c3 -- 31\n",
      "c.c4 = d.c4 -- 32\n",
      "c.c1 = e.c1 -- 33\n",
      "c.c2 = e.c2 -- 34\n",
      "c.c3 = e.c3 -- 35\n",
      "c.c4 = e.c4 -- 36\n",
      "d.c1 = e.c1 -- 37\n",
      "d.c2 = e.c2 -- 38\n",
      "d.c3 = e.c3 -- 39\n",
      "d.c4 = e.c4 -- 40\n"
     ]
    }
   ],
   "source": [
    "aliases = 'a,b,c,d,e'.split(',')\n",
    "cols = 'c1,c2,c3,c4'.split(',')\n",
    "\n",
    "\n",
    "seen = []\n",
    "c=0\n",
    "for i in range(len(aliases)):\n",
    "    for j in range(len(aliases)):\n",
    "        lst = sorted([aliases[i],aliases[j]])\n",
    "  \n",
    "        if i!=j and aliases[i]!=aliases[j] and lst not in seen:\n",
    "            seen.append(lst)\n",
    "            for col in cols:\n",
    "                t1 = aliases[i]\n",
    "                t2 = aliases[j]\n",
    "                c+=1\n",
    "                expr = f\"{t1}.{col} = {t2}.{col} -- {c}\"\n",
    "                print(expr)"
   ]
  },
  {
   "cell_type": "code",
   "execution_count": 81,
   "id": "8bbc2d85",
   "metadata": {
    "scrolled": false
   },
   "outputs": [
    {
     "name": "stdout",
     "output_type": "stream",
     "text": [
      "\n",
      "SELECT salesman_id ,\n",
      "       name ,\n",
      "       ifnull(cust_name, 'NO MATCH') AS cust_name ,\n",
      "       comission\n",
      "FROM\n",
      "  (SELECT s.salesman_id,\n",
      "          s.name,\n",
      "          c.cust_name,\n",
      "          s.commission\n",
      "   FROM salesman s\n",
      "   LEFT JOIN customer c ON s.salesman_id = c.salesman_id\n",
      "   AND s.city = c.city\n",
      "   UNION SELECT s.salesman_id,\n",
      "                s.name,\n",
      "                c.cust_name,\n",
      "                s.commission\n",
      "   FROM customer c\n",
      "   LEFT JOIN salesman s-- err_here miss lj\n",
      " ON s.salesman_id = c.salesman_id\n",
      "   AND s.city = c.city) AS subq\n",
      "ORDER BY name DESC\n"
     ]
    }
   ],
   "source": [
    "#-- при заміні на same_cols треба давати знак, коли вручну\n",
    "same_cols = 's.salesman_id,s.name,c.cust_name,s.commission'\n",
    "q=f'''\n",
    "     s \n",
    "     salesman_id\n",
    "    ,name\n",
    "    ,ifnull(cust_name,'NO MATCH') as cust_name\n",
    "    ,comission\n",
    "    f (\n",
    "        s {same_cols} \n",
    "        f salesman s\n",
    "        lj customer c\n",
    "        {join_gen}\n",
    "        u \n",
    "        s {same_cols}\n",
    "        f customer c\n",
    "        lj salesman s-- err_here miss lj\n",
    "        {join_gen}\n",
    "        ) as subq\n",
    "    ob name desc\n",
    "'''\n",
    "\n",
    "q = mysqlreplacer(q)\n",
    "q = sqlparse.format(q, reindent=True, keyword_case='upper') #https://stackoverflow.com/questions/44335158/how-to-pretty-format-the-printing-of-sql-queries-in-sqlalchemy\n",
    "print(q)"
   ]
  },
  {
   "cell_type": "code",
   "execution_count": 54,
   "id": "88e98e6d",
   "metadata": {},
   "outputs": [
    {
     "data": {
      "text/html": [
       "<div>\n",
       "<style scoped>\n",
       "    .dataframe tbody tr th:only-of-type {\n",
       "        vertical-align: middle;\n",
       "    }\n",
       "\n",
       "    .dataframe tbody tr th {\n",
       "        vertical-align: top;\n",
       "    }\n",
       "\n",
       "    .dataframe thead th {\n",
       "        text-align: right;\n",
       "    }\n",
       "</style>\n",
       "<table border=\"1\" class=\"dataframe\">\n",
       "  <thead>\n",
       "    <tr style=\"text-align: right;\">\n",
       "      <th></th>\n",
       "      <th>not 'city_example'</th>\n",
       "      <th>not ''</th>\n",
       "      <th>not Null</th>\n",
       "      <th>not 1</th>\n",
       "    </tr>\n",
       "  </thead>\n",
       "  <tbody>\n",
       "    <tr>\n",
       "      <th>0</th>\n",
       "      <td>1</td>\n",
       "      <td>1</td>\n",
       "      <td>None</td>\n",
       "      <td>0</td>\n",
       "    </tr>\n",
       "  </tbody>\n",
       "</table>\n",
       "</div>"
      ],
      "text/plain": [
       "   not 'city_example'  not '' not Null  not 1\n",
       "0                   1       1     None      0"
      ]
     },
     "execution_count": 54,
     "metadata": {},
     "output_type": "execute_result"
    }
   ],
   "source": [
    "from pandasql import sqldf\n",
    "sql=f'''\n",
    "select not 'city_example', not '', not Null,not 1\n",
    "'''\n",
    "\n",
    "sqldf(sql)"
   ]
  },
  {
   "cell_type": "code",
   "execution_count": 76,
   "id": "74c139f4",
   "metadata": {},
   "outputs": [],
   "source": [
    "#import re"
   ]
  },
  {
   "cell_type": "code",
   "execution_count": 92,
   "id": "c250811a",
   "metadata": {},
   "outputs": [
    {
     "name": "stdout",
     "output_type": "stream",
     "text": [
      "##############################\n",
      "1. use both table names \n",
      "with aliases when substitution! \n",
      "    Example: \n",
      "    pd_reverse_fromjoin_tables(query_string,'salesman s','customer c')\n",
      "    \n",
      "\n",
      "SELECT s.salesman_id,\n",
      "s.name,\n",
      "c.cust_name,\n",
      "s.commission\n",
      "FROM customer c  -- from_sub0'. Original:f - salesman s,j - customer c\n",
      "'left JOIN salesman s s.salesman_id = c.salesman_id --  join_sub0\n",
      "AND s.city = c.city\n",
      "\n",
      "\n"
     ]
    }
   ],
   "source": [
    "def pd_reverse_fromjoin_tables( query\n",
    "                               ,db_tFrom\n",
    "                               ,db_tJoin):\n",
    "    from re import match\n",
    "    info = f'''{'#'*30}\n",
    "1. use both table names \n",
    "with aliases when substitution! \n",
    "    Example: \n",
    "    pd_reverse_fromjoin_tables(query_string,'salesman s','customer c')\n",
    "    '''\n",
    "    print(info)\n",
    "    new_query=''\n",
    "    \n",
    "    fc=0\n",
    "    jc=0\n",
    "    \n",
    "    join_regexp_pattern = 'inner join|left join|right join'\n",
    "    for i in q.split('\\n'):\n",
    "        i= i.strip()\n",
    "        if 'from' in i.lower() and not match('\\(|\\)',i):\n",
    "            substition_original_pos = f\" -- from_sub{fc}'. Original:f - {db_tFrom},j - {db_tJoin}\"\n",
    "            substition_res = i.replace(db_tFrom,db_tJoin)\n",
    "            row = f\"{substition_res} {substition_original_pos}\\n'\"\n",
    "            new_query+=row\n",
    "            fc+=1\n",
    "        #elif 'left join' in i.lower():\n",
    "        elif match(join_regexp_pattern,i.lower()) and not match('\\(|\\)',i): #re lib\n",
    "            row = i.replace(db_tJoin,db_tFrom)+f' --  join_sub{jc}'+'\\n'\n",
    "            new_query+=row\n",
    "            jc+=1\n",
    "        else:  \n",
    "            new_query+=i+'\\n'\n",
    "    \n",
    "    return new_query\n",
    "\n",
    "q=f'''\n",
    "SELECT s.salesman_id,\n",
    "          s.name,\n",
    "          c.cust_name,\n",
    "          s.commission\n",
    "   FROM salesman s\n",
    "   left JOIN customer c s.salesman_id = c.salesman_id\n",
    "   AND s.city = c.city\n",
    "'''\n",
    "print(pd_reverse_fromjoin_tables(q,'salesman s','customer c'))"
   ]
  },
  {
   "cell_type": "code",
   "execution_count": 75,
   "id": "ee97b46d",
   "metadata": {},
   "outputs": [],
   "source": [
    "# def pd_reverse_fromjoin_tables( db_tFrom\n",
    "#                                ,db_tJoin):\n",
    "#     print('myselrepacer here')\n",
    "#     q_straight = f'''\n",
    "#     f {db_tFrom}\n",
    "#     lj {db_tJoin}\n",
    "#     '''\n",
    "#     q_reverse =  q_straight = f'''\n",
    "#     f {db_tJoin}\n",
    "#     lj {db_tFrom}\n",
    "#     '''\n",
    "#     print(mysqlreplacer(q_straight))\n",
    "#     print(mysqlreplacer(q_reverse))\n",
    "#     return q_straight,q_reverse\n",
    "\n",
    "# pd_reverse_fromjoin_tables('A','B')"
   ]
  }
 ],
 "metadata": {
  "kernelspec": {
   "display_name": "Python 3 (ipykernel)",
   "language": "python",
   "name": "python3"
  },
  "language_info": {
   "codemirror_mode": {
    "name": "ipython",
    "version": 3
   },
   "file_extension": ".py",
   "mimetype": "text/x-python",
   "name": "python",
   "nbconvert_exporter": "python",
   "pygments_lexer": "ipython3",
   "version": "3.6.8"
  },
  "toc": {
   "base_numbering": 1,
   "nav_menu": {},
   "number_sections": true,
   "sideBar": true,
   "skip_h1_title": false,
   "title_cell": "Table of Contents",
   "title_sidebar": "Contents",
   "toc_cell": false,
   "toc_position": {},
   "toc_section_display": true,
   "toc_window_display": false
  },
  "varInspector": {
   "cols": {
    "lenName": 16,
    "lenType": 16,
    "lenVar": 40
   },
   "kernels_config": {
    "python": {
     "delete_cmd_postfix": "",
     "delete_cmd_prefix": "del ",
     "library": "var_list.py",
     "varRefreshCmd": "print(var_dic_list())"
    },
    "r": {
     "delete_cmd_postfix": ") ",
     "delete_cmd_prefix": "rm(",
     "library": "var_list.r",
     "varRefreshCmd": "cat(var_dic_list()) "
    }
   },
   "types_to_exclude": [
    "module",
    "function",
    "builtin_function_or_method",
    "instance",
    "_Feature"
   ],
   "window_display": false
  }
 },
 "nbformat": 4,
 "nbformat_minor": 5
}
